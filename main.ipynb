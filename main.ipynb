{
 "cells": [
  {
   "cell_type": "markdown",
   "id": "4d5ddc6b",
   "metadata": {},
   "source": [
    "# Setup & Input"
   ]
  },
  {
   "cell_type": "code",
   "execution_count": 10,
   "id": "bf263233",
   "metadata": {},
   "outputs": [],
   "source": [
    "import numpy as np\n",
    "\n",
    "num = int(input(\"Enter number of points in point cloud: \"))\n",
    "\n",
    "points = []\n",
    "for i in range(num):\n",
    "    point = input(f\"Enter point {i+1} (in format: x y z): \")\n",
    "    points.append([float(coord) for coord in point.split()])\n",
    "\n",
    "points = np.array(points)\n",
    "\n",
    "translation = []\n",
    "coords = input(f\"Enter translation coordinates (in format tx ty tz) : \")\n",
    "translation.append([float(coord) for coord in coords.split()])\n",
    "\n",
    "rotation = []\n",
    "angles = input(f\"Enter rotation angles (in format rx ry rz in degrees): \")\n",
    "rotation.append([float(angle) for angle in angles.split()])"
   ]
  }
 ],
 "metadata": {
  "kernelspec": {
   "display_name": ".venv (3.8.10)",
   "language": "python",
   "name": "python3"
  },
  "language_info": {
   "codemirror_mode": {
    "name": "ipython",
    "version": 3
   },
   "file_extension": ".py",
   "mimetype": "text/x-python",
   "name": "python",
   "nbconvert_exporter": "python",
   "pygments_lexer": "ipython3",
   "version": "3.8.10"
  }
 },
 "nbformat": 4,
 "nbformat_minor": 5
}
