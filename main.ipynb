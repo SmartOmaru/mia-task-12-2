{
 "cells": [
  {
   "cell_type": "markdown",
   "id": "4d5ddc6b",
   "metadata": {},
   "source": [
    "# Setup & Input"
   ]
  },
  {
   "cell_type": "code",
   "execution_count": null,
   "id": "bf263233",
   "metadata": {},
   "outputs": [
    {
     "name": "stdout",
     "output_type": "stream",
     "text": [
      "[[1. 4. 5.]\n",
      " [2. 4. 3.]]\n",
      "[[2.0, 3.0, 6.0]]\n",
      "[[12. 34. 67.]]\n"
     ]
    }
   ],
   "source": [
    "import numpy as np\n",
    "\n",
    "num = int(input(\"Enter number of points in point cloud: \"))\n",
    "\n",
    "# Read point cloud\n",
    "points = []\n",
    "for i in range(num):\n",
    "    point = input(f\"Enter point {i+1} (in format: x y z): \")\n",
    "    points.append([float(coord) for coord in point.split()])\n",
    "\n",
    "points = np.array(points)\n",
    "print(points)\n",
    "\n",
    "# Read translation vector and rotation angles\n",
    "translation = []\n",
    "coords = input(f\"Enter translation coordinates (in format tx ty tz) : \")\n",
    "translation.append([float(coord) for coord in coords.split()])\n",
    "print(translation)\n",
    "\n",
    "rotation = []\n",
    "angles = input(f\"Enter rotation angles (in format rx ry rz in degrees): \")\n",
    "rotation.append([float(angle) for angle in angles.split()])\n",
    "print(rotation)"
   ]
  },
  {
   "cell_type": "markdown",
   "id": "a27e64d4",
   "metadata": {},
   "source": [
    "# Calculations (using HTM)"
   ]
  },
  {
   "cell_type": "code",
   "execution_count": 18,
   "id": "4ceac472",
   "metadata": {},
   "outputs": [
    {
     "name": "stdout",
     "output_type": "stream",
     "text": [
      "Homogeneous Transformation Matrix:\n",
      "[[ 0.32393079 -0.85496214  0.40510317  2.        ]\n",
      " [ 0.76313311  0.48921313  0.42225391  3.        ]\n",
      " [-0.5591929   0.1723666   0.81092111  6.        ]\n",
      " [ 0.          0.          0.          1.        ]]\n",
      "original points:\n",
      "[[1. 4. 5.]\n",
      " [2. 4. 3.]]\n",
      "transformed points:\n",
      "[[ 0.9295981   7.83125521 10.18487907]\n",
      " [ 0.44332253  7.74988049  8.00384394]]\n"
     ]
    }
   ],
   "source": [
    "# Rotation matrices\n",
    "\n",
    "rx, ry, rz = np.radians([rotation[0][0], rotation[0][1], rotation[0][2]])\n",
    "\n",
    "Rx = np.array([[1, 0, 0],\n",
    "               [0, np.cos(rx), -np.sin(rx)],\n",
    "               [0, np.sin(rx), np.cos(rx)]])\n",
    "\n",
    "Ry = np.array([[np.cos(ry), 0, np.sin(ry)],\n",
    "               [0, 1, 0],\n",
    "               [-np.sin(ry), 0, np.cos(ry)]])\n",
    "\n",
    "Rz = np.array([[np.cos(rz), -np.sin(rz), 0],\n",
    "               [np.sin(rz), np.cos(rz), 0],\n",
    "               [0, 0, 1]])\n",
    "\n",
    "R = Rz @ Ry @ Rx\n",
    "\n",
    "# Homogeneous Transformation Matrix\n",
    "T = np.eye(4)\n",
    "T[:3, :3] = R\n",
    "T[:3, 3] = translation[0]\n",
    "print(\"Homogeneous Transformation Matrix:\")\n",
    "print(T)\n",
    "\n",
    "# Apply transformation to points using homogeneous coordinates and matrix multiplication\n",
    "n = points.shape[0]\n",
    "points_homogeneous = np.hstack((points, np.ones((n, 1))))\n",
    "transformed_points_homogeneous = (T @ points_homogeneous.T).T\n",
    "transformed_points = transformed_points_homogeneous[:, :3]\n",
    "\n",
    "print(\"original points:\")\n",
    "print(points)\n",
    "print(\"transformed points:\")\n",
    "print(transformed_points)\n"
   ]
  }
 ],
 "metadata": {
  "kernelspec": {
   "display_name": ".venv (3.8.10)",
   "language": "python",
   "name": "python3"
  },
  "language_info": {
   "codemirror_mode": {
    "name": "ipython",
    "version": 3
   },
   "file_extension": ".py",
   "mimetype": "text/x-python",
   "name": "python",
   "nbconvert_exporter": "python",
   "pygments_lexer": "ipython3",
   "version": "3.8.10"
  }
 },
 "nbformat": 4,
 "nbformat_minor": 5
}
